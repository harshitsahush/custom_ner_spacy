{
 "cells": [
  {
   "cell_type": "markdown",
   "metadata": {},
   "source": [
    "Tutorial link : https://www.newscatcherapi.com/blog/train-custom-named-entity-recognition-ner-model-with-spacy-v3"
   ]
  },
  {
   "cell_type": "code",
   "execution_count": 1,
   "metadata": {},
   "outputs": [
    {
     "name": "stdout",
     "output_type": "stream",
     "text": [
      "Requirement already satisfied: spacy in ./.venv/lib/python3.10/site-packages (3.7.5)\n",
      "Requirement already satisfied: spacy-legacy<3.1.0,>=3.0.11 in ./.venv/lib/python3.10/site-packages (from spacy) (3.0.12)\n",
      "Requirement already satisfied: spacy-loggers<2.0.0,>=1.0.0 in ./.venv/lib/python3.10/site-packages (from spacy) (1.0.5)\n",
      "Requirement already satisfied: murmurhash<1.1.0,>=0.28.0 in ./.venv/lib/python3.10/site-packages (from spacy) (1.0.10)\n",
      "Requirement already satisfied: cymem<2.1.0,>=2.0.2 in ./.venv/lib/python3.10/site-packages (from spacy) (2.0.8)\n",
      "Requirement already satisfied: preshed<3.1.0,>=3.0.2 in ./.venv/lib/python3.10/site-packages (from spacy) (3.0.9)\n",
      "Requirement already satisfied: thinc<8.3.0,>=8.2.2 in ./.venv/lib/python3.10/site-packages (from spacy) (8.2.5)\n",
      "Requirement already satisfied: wasabi<1.2.0,>=0.9.1 in ./.venv/lib/python3.10/site-packages (from spacy) (1.1.3)\n",
      "Requirement already satisfied: srsly<3.0.0,>=2.4.3 in ./.venv/lib/python3.10/site-packages (from spacy) (2.4.8)\n",
      "Requirement already satisfied: catalogue<2.1.0,>=2.0.6 in ./.venv/lib/python3.10/site-packages (from spacy) (2.0.10)\n",
      "Requirement already satisfied: weasel<0.5.0,>=0.1.0 in ./.venv/lib/python3.10/site-packages (from spacy) (0.4.1)\n",
      "Requirement already satisfied: typer<1.0.0,>=0.3.0 in ./.venv/lib/python3.10/site-packages (from spacy) (0.12.3)\n",
      "Requirement already satisfied: tqdm<5.0.0,>=4.38.0 in ./.venv/lib/python3.10/site-packages (from spacy) (4.66.4)\n",
      "Requirement already satisfied: requests<3.0.0,>=2.13.0 in ./.venv/lib/python3.10/site-packages (from spacy) (2.32.3)\n",
      "Requirement already satisfied: pydantic!=1.8,!=1.8.1,<3.0.0,>=1.7.4 in ./.venv/lib/python3.10/site-packages (from spacy) (2.8.2)\n",
      "Requirement already satisfied: jinja2 in ./.venv/lib/python3.10/site-packages (from spacy) (3.1.4)\n",
      "Requirement already satisfied: setuptools in ./.venv/lib/python3.10/site-packages (from spacy) (70.1.1)\n",
      "Requirement already satisfied: packaging>=20.0 in ./.venv/lib/python3.10/site-packages (from spacy) (24.1)\n",
      "Requirement already satisfied: langcodes<4.0.0,>=3.2.0 in ./.venv/lib/python3.10/site-packages (from spacy) (3.4.0)\n",
      "Requirement already satisfied: numpy>=1.19.0 in ./.venv/lib/python3.10/site-packages (from spacy) (1.26.4)\n",
      "Requirement already satisfied: language-data>=1.2 in ./.venv/lib/python3.10/site-packages (from langcodes<4.0.0,>=3.2.0->spacy) (1.2.0)\n",
      "Requirement already satisfied: annotated-types>=0.4.0 in ./.venv/lib/python3.10/site-packages (from pydantic!=1.8,!=1.8.1,<3.0.0,>=1.7.4->spacy) (0.7.0)\n",
      "Requirement already satisfied: pydantic-core==2.20.1 in ./.venv/lib/python3.10/site-packages (from pydantic!=1.8,!=1.8.1,<3.0.0,>=1.7.4->spacy) (2.20.1)\n",
      "Requirement already satisfied: typing-extensions>=4.6.1 in ./.venv/lib/python3.10/site-packages (from pydantic!=1.8,!=1.8.1,<3.0.0,>=1.7.4->spacy) (4.12.2)\n",
      "Requirement already satisfied: charset-normalizer<4,>=2 in ./.venv/lib/python3.10/site-packages (from requests<3.0.0,>=2.13.0->spacy) (3.3.2)\n",
      "Requirement already satisfied: idna<4,>=2.5 in ./.venv/lib/python3.10/site-packages (from requests<3.0.0,>=2.13.0->spacy) (3.7)\n",
      "Requirement already satisfied: urllib3<3,>=1.21.1 in ./.venv/lib/python3.10/site-packages (from requests<3.0.0,>=2.13.0->spacy) (2.2.2)\n",
      "Requirement already satisfied: certifi>=2017.4.17 in ./.venv/lib/python3.10/site-packages (from requests<3.0.0,>=2.13.0->spacy) (2024.7.4)\n",
      "Requirement already satisfied: blis<0.8.0,>=0.7.8 in ./.venv/lib/python3.10/site-packages (from thinc<8.3.0,>=8.2.2->spacy) (0.7.11)\n",
      "Requirement already satisfied: confection<1.0.0,>=0.0.1 in ./.venv/lib/python3.10/site-packages (from thinc<8.3.0,>=8.2.2->spacy) (0.1.5)\n",
      "Requirement already satisfied: click>=8.0.0 in ./.venv/lib/python3.10/site-packages (from typer<1.0.0,>=0.3.0->spacy) (8.1.7)\n",
      "Requirement already satisfied: shellingham>=1.3.0 in ./.venv/lib/python3.10/site-packages (from typer<1.0.0,>=0.3.0->spacy) (1.5.4)\n",
      "Requirement already satisfied: rich>=10.11.0 in ./.venv/lib/python3.10/site-packages (from typer<1.0.0,>=0.3.0->spacy) (13.7.1)\n",
      "Requirement already satisfied: cloudpathlib<1.0.0,>=0.7.0 in ./.venv/lib/python3.10/site-packages (from weasel<0.5.0,>=0.1.0->spacy) (0.18.1)\n",
      "Requirement already satisfied: smart-open<8.0.0,>=5.2.1 in ./.venv/lib/python3.10/site-packages (from weasel<0.5.0,>=0.1.0->spacy) (7.0.4)\n",
      "Requirement already satisfied: MarkupSafe>=2.0 in ./.venv/lib/python3.10/site-packages (from jinja2->spacy) (2.1.5)\n",
      "Requirement already satisfied: marisa-trie>=0.7.7 in ./.venv/lib/python3.10/site-packages (from language-data>=1.2->langcodes<4.0.0,>=3.2.0->spacy) (1.2.0)\n",
      "Requirement already satisfied: markdown-it-py>=2.2.0 in ./.venv/lib/python3.10/site-packages (from rich>=10.11.0->typer<1.0.0,>=0.3.0->spacy) (3.0.0)\n",
      "Requirement already satisfied: pygments<3.0.0,>=2.13.0 in ./.venv/lib/python3.10/site-packages (from rich>=10.11.0->typer<1.0.0,>=0.3.0->spacy) (2.18.0)\n",
      "Requirement already satisfied: wrapt in ./.venv/lib/python3.10/site-packages (from smart-open<8.0.0,>=5.2.1->weasel<0.5.0,>=0.1.0->spacy) (1.16.0)\n",
      "Requirement already satisfied: mdurl~=0.1 in ./.venv/lib/python3.10/site-packages (from markdown-it-py>=2.2.0->rich>=10.11.0->typer<1.0.0,>=0.3.0->spacy) (0.1.2)\n"
     ]
    }
   ],
   "source": [
    "!pip install spacy"
   ]
  },
  {
   "cell_type": "markdown",
   "metadata": {},
   "source": [
    "# Loading data"
   ]
  },
  {
   "cell_type": "code",
   "execution_count": 2,
   "metadata": {},
   "outputs": [
    {
     "data": {
      "text/plain": [
       "{'id': '18c2f619-f102-452f-ab81-d26f7e283ffe',\n",
       " 'content': \"While bismuth compounds (Pepto-Bismol) decreased the number of bowel movements in those with travelers' diarrhea, they do not decrease the length of illness.[91] Anti-motility agents like loperamide are also effective at reducing the number of stools but not the duration of disease.[8] These agents should be used only if bloody diarrhea is not present.[92]\\n\\nDiosmectite, a natural aluminomagnesium silicate clay, is effective in alleviating symptoms of acute diarrhea in children,[93] and also has some effects in chronic functional diarrhea, radiation-induced diarrhea, and chemotherapy-induced diarrhea.[45] Another absorbent agent used for the treatment of mild diarrhea is kaopectate.\\n\\nRacecadotril an antisecretory medication may be used to treat diarrhea in children and adults.[86] It has better tolerability than loperamide, as it causes less constipation and flatulence.[94]\",\n",
       " 'metadata': {},\n",
       " 'annotations': [{'id': '0825a1bf-6a6e-4fa2-be77-8d104701eaed',\n",
       "   'tag_id': 'c06bd022-6ded-44a5-8d90-f17685bb85a1',\n",
       "   'end': 371,\n",
       "   'start': 360,\n",
       "   'example_id': '18c2f619-f102-452f-ab81-d26f7e283ffe',\n",
       "   'tag_name': 'Medicine',\n",
       "   'value': 'Diosmectite',\n",
       "   'correct': None,\n",
       "   'human_annotations': [{'timestamp': '2020-03-21T00:24:32.098000Z',\n",
       "     'annotator_id': 1,\n",
       "     'tagged_token_id': '0825a1bf-6a6e-4fa2-be77-8d104701eaed',\n",
       "     'name': 'Ashpat123',\n",
       "     'reason': 'exploration'}],\n",
       "   'model_annotations': []},\n",
       "  {'id': '145f62b1-bbf5-42f1-8ad5-9c7e08337bf0',\n",
       "   'tag_id': 'c06bd022-6ded-44a5-8d90-f17685bb85a1',\n",
       "   'end': 408,\n",
       "   'start': 383,\n",
       "   'example_id': '18c2f619-f102-452f-ab81-d26f7e283ffe',\n",
       "   'tag_name': 'Medicine',\n",
       "   'value': 'aluminomagnesium silicate',\n",
       "   'correct': None,\n",
       "   'human_annotations': [{'timestamp': '2020-03-21T00:24:43.692000Z',\n",
       "     'annotator_id': 1,\n",
       "     'tagged_token_id': '145f62b1-bbf5-42f1-8ad5-9c7e08337bf0',\n",
       "     'name': 'Ashpat123',\n",
       "     'reason': 'exploration'}],\n",
       "   'model_annotations': []},\n",
       "  {'id': '243efeb2-723f-4be4-933c-fbbf7e0f9903',\n",
       "   'tag_id': '03eb3e50-d4d8-4261-a60b-fa5aee5deb4a',\n",
       "   'end': 112,\n",
       "   'start': 104,\n",
       "   'example_id': '18c2f619-f102-452f-ab81-d26f7e283ffe',\n",
       "   'tag_name': 'MedicalCondition',\n",
       "   'value': 'diarrhea',\n",
       "   'correct': None,\n",
       "   'human_annotations': [{'timestamp': '2020-03-21T00:24:09.423000Z',\n",
       "     'annotator_id': 1,\n",
       "     'tagged_token_id': '243efeb2-723f-4be4-933c-fbbf7e0f9903',\n",
       "     'name': 'Ashpat123',\n",
       "     'reason': 'exploration'}],\n",
       "   'model_annotations': []},\n",
       "  {'id': '281f49d3-879a-4409-b09e-4cfae019af16',\n",
       "   'tag_id': 'c06bd022-6ded-44a5-8d90-f17685bb85a1',\n",
       "   'end': 689,\n",
       "   'start': 679,\n",
       "   'example_id': '18c2f619-f102-452f-ab81-d26f7e283ffe',\n",
       "   'tag_name': 'Medicine',\n",
       "   'value': 'kaopectate',\n",
       "   'correct': None,\n",
       "   'human_annotations': [{'timestamp': '2020-03-21T00:25:38.366000Z',\n",
       "     'annotator_id': 1,\n",
       "     'tagged_token_id': '281f49d3-879a-4409-b09e-4cfae019af16',\n",
       "     'name': 'Ashpat123',\n",
       "     'reason': 'exploration'}],\n",
       "   'model_annotations': []},\n",
       "  {'id': '32fdf9e7-63f7-442a-8e25-f08ea4ad94d5',\n",
       "   'tag_id': 'c06bd022-6ded-44a5-8d90-f17685bb85a1',\n",
       "   'end': 23,\n",
       "   'start': 6,\n",
       "   'example_id': '18c2f619-f102-452f-ab81-d26f7e283ffe',\n",
       "   'tag_name': 'Medicine',\n",
       "   'value': 'bismuth compounds',\n",
       "   'correct': None,\n",
       "   'human_annotations': [{'timestamp': '2020-03-21T00:23:46.721000Z',\n",
       "     'annotator_id': 1,\n",
       "     'tagged_token_id': '32fdf9e7-63f7-442a-8e25-f08ea4ad94d5',\n",
       "     'name': 'Ashpat123',\n",
       "     'reason': 'exploration'}],\n",
       "   'model_annotations': []},\n",
       "  {'id': '392094d2-febf-4074-a2ca-4c0082f4e5b8',\n",
       "   'tag_id': 'c06bd022-6ded-44a5-8d90-f17685bb85a1',\n",
       "   'end': 37,\n",
       "   'start': 25,\n",
       "   'example_id': '18c2f619-f102-452f-ab81-d26f7e283ffe',\n",
       "   'tag_name': 'Medicine',\n",
       "   'value': 'Pepto-Bismol',\n",
       "   'correct': None,\n",
       "   'human_annotations': [{'timestamp': '2020-03-21T00:23:58.861000Z',\n",
       "     'annotator_id': 1,\n",
       "     'tagged_token_id': '392094d2-febf-4074-a2ca-4c0082f4e5b8',\n",
       "     'name': 'Ashpat123',\n",
       "     'reason': 'exploration'}],\n",
       "   'model_annotations': []},\n",
       "  {'id': '450b8c30-cf2e-4774-96d9-58b4160bea38',\n",
       "   'tag_id': '03eb3e50-d4d8-4261-a60b-fa5aee5deb4a',\n",
       "   'end': 470,\n",
       "   'start': 461,\n",
       "   'example_id': '18c2f619-f102-452f-ab81-d26f7e283ffe',\n",
       "   'tag_name': 'MedicalCondition',\n",
       "   'value': 'diarrhea ',\n",
       "   'correct': None,\n",
       "   'human_annotations': [],\n",
       "   'model_annotations': []},\n",
       "  {'id': '6b73f683-7130-4e16-bcc2-e3cc8cf89f4d',\n",
       "   'tag_id': 'c06bd022-6ded-44a5-8d90-f17685bb85a1',\n",
       "   'end': 589,\n",
       "   'start': 577,\n",
       "   'example_id': '18c2f619-f102-452f-ab81-d26f7e283ffe',\n",
       "   'tag_name': 'Medicine',\n",
       "   'value': 'chemotherapy',\n",
       "   'correct': None,\n",
       "   'human_annotations': [{'timestamp': '2020-03-21T00:25:24.179000Z',\n",
       "     'annotator_id': 1,\n",
       "     'tagged_token_id': '6b73f683-7130-4e16-bcc2-e3cc8cf89f4d',\n",
       "     'name': 'Ashpat123',\n",
       "     'reason': 'exploration'}],\n",
       "   'model_annotations': []},\n",
       "  {'id': '74574b7f-d535-48e1-8651-2708adcfe453',\n",
       "   'tag_id': '03eb3e50-d4d8-4261-a60b-fa5aee5deb4a',\n",
       "   'end': 865,\n",
       "   'start': 853,\n",
       "   'example_id': '18c2f619-f102-452f-ab81-d26f7e283ffe',\n",
       "   'tag_name': 'MedicalCondition',\n",
       "   'value': 'constipation',\n",
       "   'correct': None,\n",
       "   'human_annotations': [{'timestamp': '2020-03-21T00:26:31.676000Z',\n",
       "     'annotator_id': 1,\n",
       "     'tagged_token_id': '74574b7f-d535-48e1-8651-2708adcfe453',\n",
       "     'name': 'Ashpat123',\n",
       "     'reason': 'exploration'}],\n",
       "   'model_annotations': []},\n",
       "  {'id': '7572ab8e-ae99-400c-b4ab-ed46fbc9f97e',\n",
       "   'tag_id': 'c06bd022-6ded-44a5-8d90-f17685bb85a1',\n",
       "   'end': 198,\n",
       "   'start': 188,\n",
       "   'example_id': '18c2f619-f102-452f-ab81-d26f7e283ffe',\n",
       "   'tag_name': 'Medicine',\n",
       "   'value': 'loperamide',\n",
       "   'correct': None,\n",
       "   'human_annotations': [{'timestamp': '2020-03-21T00:24:17.680000Z',\n",
       "     'annotator_id': 1,\n",
       "     'tagged_token_id': '7572ab8e-ae99-400c-b4ab-ed46fbc9f97e',\n",
       "     'name': 'Ashpat123',\n",
       "     'reason': 'exploration'}],\n",
       "   'model_annotations': []},\n",
       "  {'id': '800e6c6c-0bfb-4819-a25a-34f759753457',\n",
       "   'tag_id': '03eb3e50-d4d8-4261-a60b-fa5aee5deb4a',\n",
       "   'end': 762,\n",
       "   'start': 754,\n",
       "   'example_id': '18c2f619-f102-452f-ab81-d26f7e283ffe',\n",
       "   'tag_name': 'MedicalCondition',\n",
       "   'value': 'diarrhea',\n",
       "   'correct': None,\n",
       "   'human_annotations': [{'timestamp': '2020-03-21T00:26:07.368000Z',\n",
       "     'annotator_id': 1,\n",
       "     'tagged_token_id': '800e6c6c-0bfb-4819-a25a-34f759753457',\n",
       "     'name': 'Ashpat123',\n",
       "     'reason': 'exploration'}],\n",
       "   'model_annotations': []},\n",
       "  {'id': '8214556a-7584-4d9b-86cd-5e09137ad904',\n",
       "   'tag_id': '03eb3e50-d4d8-4261-a60b-fa5aee5deb4a',\n",
       "   'end': 880,\n",
       "   'start': 870,\n",
       "   'example_id': '18c2f619-f102-452f-ab81-d26f7e283ffe',\n",
       "   'tag_name': 'MedicalCondition',\n",
       "   'value': 'flatulence',\n",
       "   'correct': None,\n",
       "   'human_annotations': [{'timestamp': '2020-03-21T00:26:41.322000Z',\n",
       "     'annotator_id': 1,\n",
       "     'tagged_token_id': '8214556a-7584-4d9b-86cd-5e09137ad904',\n",
       "     'name': 'Ashpat123',\n",
       "     'reason': 'exploration'}],\n",
       "   'model_annotations': []},\n",
       "  {'id': '98968e14-6756-4174-9d3d-7abd58b3aa34',\n",
       "   'tag_id': 'c06bd022-6ded-44a5-8d90-f17685bb85a1',\n",
       "   'end': 833,\n",
       "   'start': 823,\n",
       "   'example_id': '18c2f619-f102-452f-ab81-d26f7e283ffe',\n",
       "   'tag_name': 'Medicine',\n",
       "   'value': 'loperamide',\n",
       "   'correct': None,\n",
       "   'human_annotations': [{'timestamp': '2020-03-21T00:26:12.759000Z',\n",
       "     'annotator_id': 1,\n",
       "     'tagged_token_id': '98968e14-6756-4174-9d3d-7abd58b3aa34',\n",
       "     'name': 'Ashpat123',\n",
       "     'reason': 'exploration'}],\n",
       "   'model_annotations': []},\n",
       "  {'id': 'a0a03c7b-cfad-41ee-9f5c-f8a802475994',\n",
       "   'tag_id': '03eb3e50-d4d8-4261-a60b-fa5aee5deb4a',\n",
       "   'end': 853,\n",
       "   'start': 852,\n",
       "   'example_id': '18c2f619-f102-452f-ab81-d26f7e283ffe',\n",
       "   'tag_name': 'MedicalCondition',\n",
       "   'value': ' ',\n",
       "   'correct': None,\n",
       "   'human_annotations': [],\n",
       "   'model_annotations': []},\n",
       "  {'id': 'bfbddfd4-38aa-43a7-9366-24c95829ac8c',\n",
       "   'tag_id': '03eb3e50-d4d8-4261-a60b-fa5aee5deb4a',\n",
       "   'end': 469,\n",
       "   'start': 461,\n",
       "   'example_id': '18c2f619-f102-452f-ab81-d26f7e283ffe',\n",
       "   'tag_name': 'MedicalCondition',\n",
       "   'value': 'diarrhea',\n",
       "   'correct': None,\n",
       "   'human_annotations': [{'timestamp': '2020-03-21T00:25:06.921000Z',\n",
       "     'annotator_id': 1,\n",
       "     'tagged_token_id': 'bfbddfd4-38aa-43a7-9366-24c95829ac8c',\n",
       "     'name': 'Ashpat123',\n",
       "     'reason': 'exploration'}],\n",
       "   'model_annotations': []},\n",
       "  {'id': 'd7d68c18-0d8e-4547-a2fa-81fdcaf3080e',\n",
       "   'tag_id': '03eb3e50-d4d8-4261-a60b-fa5aee5deb4a',\n",
       "   'end': 543,\n",
       "   'start': 535,\n",
       "   'example_id': '18c2f619-f102-452f-ab81-d26f7e283ffe',\n",
       "   'tag_name': 'MedicalCondition',\n",
       "   'value': 'diarrhea',\n",
       "   'correct': None,\n",
       "   'human_annotations': [{'timestamp': '2020-03-21T00:25:12.203000Z',\n",
       "     'annotator_id': 1,\n",
       "     'tagged_token_id': 'd7d68c18-0d8e-4547-a2fa-81fdcaf3080e',\n",
       "     'name': 'Ashpat123',\n",
       "     'reason': 'exploration'}],\n",
       "   'model_annotations': []},\n",
       "  {'id': 'ee956220-42a4-4a91-b9f0-75019c4f5dd9',\n",
       "   'tag_id': 'c06bd022-6ded-44a5-8d90-f17685bb85a1',\n",
       "   'end': 704,\n",
       "   'start': 692,\n",
       "   'example_id': '18c2f619-f102-452f-ab81-d26f7e283ffe',\n",
       "   'tag_name': 'Medicine',\n",
       "   'value': 'Racecadotril',\n",
       "   'correct': None,\n",
       "   'human_annotations': [{'timestamp': '2020-03-21T00:25:56.503000Z',\n",
       "     'annotator_id': 1,\n",
       "     'tagged_token_id': 'ee956220-42a4-4a91-b9f0-75019c4f5dd9',\n",
       "     'name': 'Ashpat123',\n",
       "     'reason': 'exploration'}],\n",
       "   'model_annotations': []},\n",
       "  {'id': 'f04a6b7e-8904-405c-9301-e4543238b7a5',\n",
       "   'tag_id': '03eb3e50-d4d8-4261-a60b-fa5aee5deb4a',\n",
       "   'end': 571,\n",
       "   'start': 563,\n",
       "   'example_id': '18c2f619-f102-452f-ab81-d26f7e283ffe',\n",
       "   'tag_name': 'MedicalCondition',\n",
       "   'value': 'diarrhea',\n",
       "   'correct': None,\n",
       "   'human_annotations': [{'timestamp': '2020-03-21T00:25:18.043000Z',\n",
       "     'annotator_id': 1,\n",
       "     'tagged_token_id': 'f04a6b7e-8904-405c-9301-e4543238b7a5',\n",
       "     'name': 'Ashpat123',\n",
       "     'reason': 'exploration'}],\n",
       "   'model_annotations': []}],\n",
       " 'classifications': []}"
      ]
     },
     "execution_count": 2,
     "metadata": {},
     "output_type": "execute_result"
    }
   ],
   "source": [
    "import json\n",
    "\n",
    "with open(\"data.json\", \"r\") as f:\n",
    "    data = json.load(f)\n",
    "\n",
    "data[\"examples\"][0]"
   ]
  },
  {
   "cell_type": "code",
   "execution_count": 3,
   "metadata": {},
   "outputs": [],
   "source": [
    "training_data = {\n",
    "    'classes' : [\"MEDICINE\", \"MEDICALCONDITION\", \"PATHOGEN\"], \n",
    "    'annotations' : []\n",
    "}\n",
    "\n",
    "for example in data['examples']:\n",
    "    temp_dict = {}\n",
    "    temp_dict['text'] = example['content']\n",
    "    temp_dict['entities'] = []\n",
    "\n",
    "    for annotation in example['annotations']:\n",
    "        start = annotation['start']\n",
    "        end = annotation['end']\n",
    "        label = annotation['tag_name'].upper()\n",
    "\n",
    "        temp_dict['entities'].append((start, end, label))\n",
    "    \n",
    "    training_data[\"annotations\"].append(temp_dict)"
   ]
  },
  {
   "cell_type": "code",
   "execution_count": 4,
   "metadata": {},
   "outputs": [
    {
     "data": {
      "text/plain": [
       "{'text': \"While bismuth compounds (Pepto-Bismol) decreased the number of bowel movements in those with travelers' diarrhea, they do not decrease the length of illness.[91] Anti-motility agents like loperamide are also effective at reducing the number of stools but not the duration of disease.[8] These agents should be used only if bloody diarrhea is not present.[92]\\n\\nDiosmectite, a natural aluminomagnesium silicate clay, is effective in alleviating symptoms of acute diarrhea in children,[93] and also has some effects in chronic functional diarrhea, radiation-induced diarrhea, and chemotherapy-induced diarrhea.[45] Another absorbent agent used for the treatment of mild diarrhea is kaopectate.\\n\\nRacecadotril an antisecretory medication may be used to treat diarrhea in children and adults.[86] It has better tolerability than loperamide, as it causes less constipation and flatulence.[94]\",\n",
       " 'entities': [(360, 371, 'MEDICINE'),\n",
       "  (383, 408, 'MEDICINE'),\n",
       "  (104, 112, 'MEDICALCONDITION'),\n",
       "  (679, 689, 'MEDICINE'),\n",
       "  (6, 23, 'MEDICINE'),\n",
       "  (25, 37, 'MEDICINE'),\n",
       "  (461, 470, 'MEDICALCONDITION'),\n",
       "  (577, 589, 'MEDICINE'),\n",
       "  (853, 865, 'MEDICALCONDITION'),\n",
       "  (188, 198, 'MEDICINE'),\n",
       "  (754, 762, 'MEDICALCONDITION'),\n",
       "  (870, 880, 'MEDICALCONDITION'),\n",
       "  (823, 833, 'MEDICINE'),\n",
       "  (852, 853, 'MEDICALCONDITION'),\n",
       "  (461, 469, 'MEDICALCONDITION'),\n",
       "  (535, 543, 'MEDICALCONDITION'),\n",
       "  (692, 704, 'MEDICINE'),\n",
       "  (563, 571, 'MEDICALCONDITION')]}"
      ]
     },
     "execution_count": 4,
     "metadata": {},
     "output_type": "execute_result"
    }
   ],
   "source": [
    "training_data[\"annotations\"][0]"
   ]
  },
  {
   "cell_type": "markdown",
   "metadata": {},
   "source": [
    "# creating docbin object and handling overlaps"
   ]
  },
  {
   "cell_type": "code",
   "execution_count": 5,
   "metadata": {},
   "outputs": [],
   "source": [
    "# docbin objects are used to create and save .spacy files"
   ]
  },
  {
   "cell_type": "code",
   "execution_count": 6,
   "metadata": {},
   "outputs": [],
   "source": [
    "import spacy\n",
    "from spacy.tokens import DocBin\n",
    "\n",
    "nlp = spacy.blank(\"en\")     #creates a blank model\n",
    "doc_bin = DocBin()"
   ]
  },
  {
   "cell_type": "code",
   "execution_count": 7,
   "metadata": {},
   "outputs": [
    {
     "name": "stdout",
     "output_type": "stream",
     "text": [
      "Skipping entity\n",
      "Skipping entity\n",
      "Skipping entity\n",
      "Skipping entity\n",
      "Skipping entity\n",
      "Skipping entity\n",
      "Skipping entity\n",
      "Skipping entity\n",
      "Skipping entity\n",
      "Skipping entity\n",
      "Skipping entity\n",
      "Skipping entity\n",
      "Skipping entity\n",
      "Skipping entity\n",
      "Skipping entity\n",
      "Skipping entity\n"
     ]
    }
   ],
   "source": [
    "#since some indices overlap, we'll need to handle those\n",
    "from spacy.util import filter_spans\n",
    "\n",
    "for training_eg in training_data[\"annotations\"]:\n",
    "    text = training_eg[\"text\"]\n",
    "    labels = training_eg[\"entities\"]\n",
    "    doc = nlp.make_doc(text)\n",
    "    ents = []\n",
    "    \n",
    "    for start, end, label in labels:\n",
    "        span = doc.char_span(start, end, label=label, alignment_mode=\"contract\")\n",
    "\n",
    "        if(span is None):\n",
    "            print(\"Skipping entity\")\n",
    "        else:\n",
    "            ents.append(span)\n",
    "\n",
    "    filtered_ents = filter_spans(ents)\n",
    "    doc.ents = filtered_ents\n",
    "    doc_bin.add(doc)\n",
    "\n",
    "doc_bin.to_disk(\"training_data.spacy\")"
   ]
  },
  {
   "cell_type": "markdown",
   "metadata": {},
   "source": [
    "# Config files"
   ]
  },
  {
   "cell_type": "code",
   "execution_count": 9,
   "metadata": {},
   "outputs": [],
   "source": [
    "#We’ll be working with a base config file created using the quickstart page. \n",
    "#This is an incomplete file with only our custom options, so we’ll have to fill in the rest with the default values."
   ]
  },
  {
   "cell_type": "code",
   "execution_count": 1,
   "metadata": {},
   "outputs": [],
   "source": [
    "# Remember to change the path of training data to your training data file and validation file, \n",
    "# in the base_config.cfg and config.cfg file \n",
    "\n",
    "#since we dont have validation dataset, use training_data in dev as well"
   ]
  },
  {
   "cell_type": "code",
   "execution_count": 18,
   "metadata": {},
   "outputs": [],
   "source": [
    "#run this in terminal, not here\n",
    "\n",
    "# python -m spacy init fill-config base_config.cfg config.cfg   \n",
    "#           creates config file, using base_config.cfq\n",
    "#           select only NER when making base_config on website"
   ]
  },
  {
   "cell_type": "markdown",
   "metadata": {},
   "source": [
    "# Train model"
   ]
  },
  {
   "cell_type": "code",
   "execution_count": 19,
   "metadata": {},
   "outputs": [],
   "source": [
    "# python -m spacy train config.cfg --output ./outputs\n",
    "#           saves outputs to ./outputs"
   ]
  },
  {
   "cell_type": "markdown",
   "metadata": {},
   "source": [
    "# Load and test model"
   ]
  },
  {
   "cell_type": "code",
   "execution_count": 21,
   "metadata": {},
   "outputs": [],
   "source": [
    "nlp_ner = spacy.load(\"./outputs/model-best\")"
   ]
  },
  {
   "cell_type": "code",
   "execution_count": 22,
   "metadata": {},
   "outputs": [],
   "source": [
    "doc = nlp_ner(\"Antiretroviral therapy (ART) is recommended for all HIV-infected\\\n",
    "individuals to reduce the risk of disease progression.\\nART also is recommended \\\n",
    "for HIV-infected individuals for the prevention of transmission of HIV.\\nPatients \\\n",
    "starting ART should be willing and able to commit to treatment and understand the\\\n",
    "benefits and risks of therapy and the importance of adherence. Patients may choose\\\n",
    "to postpone therapy, and providers, on a case-by-case basis, may elect to defer\\\n",
    "therapy on the basis of clinical and/or psychosocial factors.\")"
   ]
  },
  {
   "cell_type": "code",
   "execution_count": 23,
   "metadata": {},
   "outputs": [],
   "source": [
    "colors = {\"PATHOGEN\": \"#F67DE3\", \"MEDICINE\": \"#7DF6D9\", \"MEDICALCONDITION\":\"#FFFFFF\"}\n",
    "options = {\"colors\": colors} "
   ]
  },
  {
   "cell_type": "code",
   "execution_count": 24,
   "metadata": {},
   "outputs": [],
   "source": [
    "from spacy import displacy"
   ]
  },
  {
   "cell_type": "code",
   "execution_count": 25,
   "metadata": {},
   "outputs": [
    {
     "data": {
      "text/html": [
       "<span class=\"tex2jax_ignore\"><div class=\"entities\" style=\"line-height: 2.5; direction: ltr\">\n",
       "<mark class=\"entity\" style=\"background: #7DF6D9; padding: 0.45em 0.6em; margin: 0 0.25em; line-height: 1; border-radius: 0.35em;\">\n",
       "    Antiretroviral therapy\n",
       "    <span style=\"font-size: 0.8em; font-weight: bold; line-height: 1; border-radius: 0.35em; vertical-align: middle; margin-left: 0.5rem\">MEDICINE</span>\n",
       "</mark>\n",
       " (\n",
       "<mark class=\"entity\" style=\"background: #7DF6D9; padding: 0.45em 0.6em; margin: 0 0.25em; line-height: 1; border-radius: 0.35em;\">\n",
       "    ART\n",
       "    <span style=\"font-size: 0.8em; font-weight: bold; line-height: 1; border-radius: 0.35em; vertical-align: middle; margin-left: 0.5rem\">MEDICINE</span>\n",
       "</mark>\n",
       ") is recommended for all \n",
       "<mark class=\"entity\" style=\"background: #F67DE3; padding: 0.45em 0.6em; margin: 0 0.25em; line-height: 1; border-radius: 0.35em;\">\n",
       "    HIV\n",
       "    <span style=\"font-size: 0.8em; font-weight: bold; line-height: 1; border-radius: 0.35em; vertical-align: middle; margin-left: 0.5rem\">PATHOGEN</span>\n",
       "</mark>\n",
       "-infectedindividuals to reduce the risk of disease progression.<br>\n",
       "<mark class=\"entity\" style=\"background: #7DF6D9; padding: 0.45em 0.6em; margin: 0 0.25em; line-height: 1; border-radius: 0.35em;\">\n",
       "    ART\n",
       "    <span style=\"font-size: 0.8em; font-weight: bold; line-height: 1; border-radius: 0.35em; vertical-align: middle; margin-left: 0.5rem\">MEDICINE</span>\n",
       "</mark>\n",
       " also is recommended for \n",
       "<mark class=\"entity\" style=\"background: #F67DE3; padding: 0.45em 0.6em; margin: 0 0.25em; line-height: 1; border-radius: 0.35em;\">\n",
       "    HIV\n",
       "    <span style=\"font-size: 0.8em; font-weight: bold; line-height: 1; border-radius: 0.35em; vertical-align: middle; margin-left: 0.5rem\">PATHOGEN</span>\n",
       "</mark>\n",
       "-infected individuals for the prevention of transmission of \n",
       "<mark class=\"entity\" style=\"background: #F67DE3; padding: 0.45em 0.6em; margin: 0 0.25em; line-height: 1; border-radius: 0.35em;\">\n",
       "    HIV\n",
       "    <span style=\"font-size: 0.8em; font-weight: bold; line-height: 1; border-radius: 0.35em; vertical-align: middle; margin-left: 0.5rem\">PATHOGEN</span>\n",
       "</mark>\n",
       ".<br>Patients starting \n",
       "<mark class=\"entity\" style=\"background: #7DF6D9; padding: 0.45em 0.6em; margin: 0 0.25em; line-height: 1; border-radius: 0.35em;\">\n",
       "    ART\n",
       "    <span style=\"font-size: 0.8em; font-weight: bold; line-height: 1; border-radius: 0.35em; vertical-align: middle; margin-left: 0.5rem\">MEDICINE</span>\n",
       "</mark>\n",
       " should be willing and able to commit to treatment and understand thebenefits and risks of therapy and the importance of adherence. Patients may chooseto postpone therapy, and providers, on a case-by-case basis, may elect to \n",
       "<mark class=\"entity\" style=\"background: #7DF6D9; padding: 0.45em 0.6em; margin: 0 0.25em; line-height: 1; border-radius: 0.35em;\">\n",
       "    defertherapy\n",
       "    <span style=\"font-size: 0.8em; font-weight: bold; line-height: 1; border-radius: 0.35em; vertical-align: middle; margin-left: 0.5rem\">MEDICINE</span>\n",
       "</mark>\n",
       " on the basis of clinical and/or psychosocial factors.</div></span>"
      ],
      "text/plain": [
       "<IPython.core.display.HTML object>"
      ]
     },
     "metadata": {},
     "output_type": "display_data"
    }
   ],
   "source": [
    "spacy.displacy.render(doc, style=\"ent\", options= options, jupyter=True)"
   ]
  }
 ],
 "metadata": {
  "kernelspec": {
   "display_name": ".venv",
   "language": "python",
   "name": "python3"
  },
  "language_info": {
   "codemirror_mode": {
    "name": "ipython",
    "version": 3
   },
   "file_extension": ".py",
   "mimetype": "text/x-python",
   "name": "python",
   "nbconvert_exporter": "python",
   "pygments_lexer": "ipython3",
   "version": "3.10.14"
  }
 },
 "nbformat": 4,
 "nbformat_minor": 2
}
